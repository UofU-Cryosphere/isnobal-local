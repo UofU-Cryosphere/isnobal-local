{
 "cells": [
  {
   "cell_type": "markdown",
   "metadata": {},
   "source": [
    "## 160 Topocalc for sky view factor and shade\n",
    "\n",
    "[Link to PR](https://github.com/USDA-ARS-NWRC/smrf/pull/160)\n",
    "\n",
    "Changed number of angles to use for calculation from 16 to 72, which changed net_solar and thermal.\n",
    "\n",
    "## 165 stoporad to Python\n",
    "\n",
    "[Link to PR](https://github.com/USDA-ARS-NWRC/smrf/pull/165)"
   ]
  },
  {
   "cell_type": "code",
   "execution_count": null,
   "metadata": {},
   "outputs": [],
   "source": [
    "from common import *"
   ]
  },
  {
   "cell_type": "code",
   "execution_count": null,
   "metadata": {},
   "outputs": [],
   "source": [
    "import json\n",
    "from collections import namedtuple\n",
    "\n",
    "SnotelSite = namedtuple('SnotelSites', 'name lon lat')"
   ]
  },
  {
   "cell_type": "code",
   "execution_count": null,
   "metadata": {},
   "outputs": [],
   "source": [
    "snobal_dir = Path.home() / 'shared-cryosphere/iSnobal/output'\n",
    "water_year = 'wy2018'\n",
    "\n",
    "coarsen_opts = dict(x=2, y=2, keep_attrs=True)"
   ]
  },
  {
   "cell_type": "code",
   "execution_count": null,
   "metadata": {},
   "outputs": [],
   "source": [
    "client = start_cluster(6, 7)\n",
    "client"
   ]
  },
  {
   "cell_type": "code",
   "execution_count": null,
   "metadata": {},
   "outputs": [],
   "source": [
    "time=slice(\"2017-10-01\", \"2018-07-15\")"
   ]
  },
  {
   "cell_type": "code",
   "execution_count": null,
   "metadata": {},
   "outputs": [],
   "source": [
    "snotel_dir = Path.home() / 'shared-cryosphere'\n",
    "snotel_sites = json.load(\n",
    "        open(snotel_dir / 'Snotel/snotel_sites_2x2.json', 'r')\n",
    "    )\n",
    "\n",
    "butte_snotel = SnotelSite('Butte', snotel_sites['Butte']['lon'], snotel_sites['Butte']['lat'])\n",
    "schofield_snotel = SnotelSite('Schofield', snotel_sites['Schofield']['lon'], snotel_sites['Schofield']['lat'])\n",
    "taylor_snotel = SnotelSite('Taylor', snotel_sites['Taylor']['lon'], snotel_sites['Taylor']['lat'])"
   ]
  },
  {
   "cell_type": "markdown",
   "metadata": {},
   "source": [
    "### AGU results"
   ]
  },
  {
   "cell_type": "code",
   "execution_count": null,
   "metadata": {},
   "outputs": [],
   "source": [
    "wy_snow_agu = xr.open_mfdataset(\n",
    "    (snobal_dir / 'wy2018_run_1/*/snow.nc').as_posix(),\n",
    "    data_vars=['thickness'],\n",
    "    parallel=True,\n",
    ").sel(time=datetime.time(23)).sel(time=time)\n",
    "\n",
    "AGU_VERSION = 'AGU'\n",
    "\n",
    "butte_snobal_agu = wy_snow_agu.sel(x=butte_snotel.lon, y=butte_snotel.lat)\n",
    "schofield_snobal_agu = wy_snow_agu.sel(x=schofield_snotel.lon, y=schofield_snotel.lat)\n",
    "taylor_snobal_agu = wy_snow_agu.sel(x=taylor_snotel.lon, y=taylor_snotel.lat)"
   ]
  },
  {
   "cell_type": "markdown",
   "metadata": {},
   "source": [
    "### Latest Run - 16 Sky View Angles"
   ]
  },
  {
   "cell_type": "code",
   "execution_count": null,
   "metadata": {},
   "outputs": [],
   "source": [
    "wy_snow = xr.open_mfdataset(\n",
    "    (snobal_dir / 'wy2018/runs/*/snow.nc').as_posix(),\n",
    "    data_vars=['thickness'],\n",
    "    parallel=True,\n",
    ").sel(time=datetime.time(23)).sel(time=time)\n",
    "\n",
    "CURRENT = 'SMRF UofU - 16 Angles'\n",
    "\n",
    "butte_snobal = wy_snow.sel(x=butte_snotel.lon, y=butte_snotel.lat)\n",
    "schofield_snobal = wy_snow.sel(x=schofield_snotel.lon, y=schofield_snotel.lat)\n",
    "taylor_snobal = wy_snow.sel(x=taylor_snotel.lon, y=taylor_snotel.lat)"
   ]
  },
  {
   "cell_type": "markdown",
   "metadata": {},
   "source": [
    "### Run - 72 Sky View Angles"
   ]
  },
  {
   "cell_type": "code",
   "execution_count": null,
   "metadata": {},
   "outputs": [],
   "source": [
    "wy_snow_72 = xr.open_mfdataset(\n",
    "    (snobal_dir / 'wy2018_UofU/runs/*/snow.nc').as_posix(),\n",
    "    data_vars=['thickness'],\n",
    "    parallel=True,\n",
    ").sel(time=datetime.time(23)).sel(time=time)\n",
    "\n",
    "ANGLES_72 = 'SMRF UofU - 72 Angles'\n",
    "\n",
    "butte_snobal_72 = wy_snow_72.sel(x=butte_snotel.lon, y=butte_snotel.lat)\n",
    "schofield_snobal_72 = wy_snow_72.sel(x=schofield_snotel.lon, y=schofield_snotel.lat)\n",
    "taylor_snobal_72 = wy_snow_72.sel(x=taylor_snotel.lon, y=taylor_snotel.lat)"
   ]
  },
  {
   "cell_type": "markdown",
   "metadata": {},
   "source": [
    "### Comparison Run"
   ]
  },
  {
   "cell_type": "code",
   "execution_count": null,
   "metadata": {},
   "outputs": [],
   "source": [
    "wy_snow_CMP = xr.open_mfdataset(\n",
    "    (snobal_dir / 'wy2018_smrf_PR_159/runs/*/snow.nc').as_posix(),\n",
    "    data_vars=['thickness'],\n",
    "    parallel=True,\n",
    ").sel(time=datetime.time(23)).sel(time=time)\n",
    "\n",
    "VERSION_CMP = 'PR 159'\n",
    "\n",
    "butte_snobal_CMP = wy_snow_CMP.sel(x=butte_snotel.lon, y=butte_snotel.lat)\n",
    "schofield_snobal_CMP = wy_snow_CMP.sel(x=schofield_snotel.lon, y=schofield_snotel.lat)\n",
    "taylor_snobal_CMP = wy_snow_CMP.sel(x=taylor_snotel.lon, y=taylor_snotel.lat)"
   ]
  },
  {
   "cell_type": "markdown",
   "metadata": {},
   "source": [
    "## Compare across SMRF versions\n",
    "### Snow Depth"
   ]
  },
  {
   "cell_type": "code",
   "execution_count": null,
   "metadata": {},
   "outputs": [],
   "source": [
    "albedo_start = pd.to_datetime('2018-03-15')\n",
    "\n",
    "def compare_runs(sites, snotel):\n",
    "    plt.figure(figsize=(6,4), dpi=200)\n",
    "    for label, site in sites.items():\n",
    "        site.thickness.coarsen(**coarsen_opts).mean().plot(label=label)\n",
    "    plt.axvline(x=albedo_start, c='orange', linestyle='--')\n",
    "    plt.title(snotel.name)\n",
    "    plt.legend();"
   ]
  },
  {
   "cell_type": "code",
   "execution_count": null,
   "metadata": {},
   "outputs": [],
   "source": [
    "compare_runs(\n",
    "    {\n",
    "        VERSION_CMP: butte_snobal_CMP,\n",
    "        ANGLES_72: butte_snobal_72,\n",
    "        CURRENT: butte_snobal,\n",
    "        AGU_VERSION: butte_snobal_agu,\n",
    "    }, \n",
    "    butte_snotel\n",
    ")"
   ]
  },
  {
   "cell_type": "code",
   "execution_count": null,
   "metadata": {},
   "outputs": [],
   "source": [
    "compare_runs(\n",
    "    {\n",
    "        VERSION_CMP: schofield_snobal_CMP,\n",
    "        ANGLES_72: schofield_snobal_72,\n",
    "        CURRENT: schofield_snobal,\n",
    "        AGU_VERSION: schofield_snobal_agu,\n",
    "    }, \n",
    "    schofield_snotel\n",
    ")"
   ]
  },
  {
   "cell_type": "code",
   "execution_count": null,
   "metadata": {},
   "outputs": [],
   "source": [
    "compare_runs(\n",
    "    {\n",
    "        VERSION_CMP: taylor_snobal_CMP,\n",
    "        ANGLES_72: taylor_snobal_72,\n",
    "        CURRENT: taylor_snobal,\n",
    "        AGU_VERSION: taylor_snobal_agu,\n",
    "    }, \n",
    "    taylor_snotel\n",
    ")"
   ]
  },
  {
   "cell_type": "markdown",
   "metadata": {},
   "source": [
    "### Depth Difference "
   ]
  },
  {
   "cell_type": "code",
   "execution_count": null,
   "metadata": {},
   "outputs": [],
   "source": [
    "def mean_difference(a, b, time):\n",
    "    return (a.thickness - b.thickness.sel(time=time)).coarsen(**coarsen_opts).mean()\n",
    "\n",
    "def run_difference(a, b, site):\n",
    "    \"\"\"\n",
    "       Difference is: site data a - site data b \n",
    "    \"\"\"\n",
    "    fig, (ax1, ax2) = plt.subplots(1, 2, figsize=(12, 4), dpi=150)\n",
    "    \n",
    "    mean_difference(a, b , slice(\"2017-10-01\", \"2018-03-14\")).plot(ax=ax1)\n",
    "    ax1.set_title('Before albedo decay')\n",
    "    \n",
    "    mean_difference(a, b , slice(\"2018-03-15\", \"2018-07-15\")).plot(ax=ax2)\n",
    "    ax2.set_title('Added albedo decay')\n",
    "    \n",
    "    for ax in [ax1, ax2]:\n",
    "        ax.set_ylabel('Snow Depth (m)')\n",
    "    \n",
    "    fig.suptitle(site.name + ' - Snow Depth Difference')"
   ]
  },
  {
   "cell_type": "code",
   "execution_count": null,
   "metadata": {},
   "outputs": [],
   "source": [
    "run_difference(butte_snobal, butte_snobal_72, butte_snotel)\n",
    "run_difference(schofield_snobal, schofield_snobal_72, schofield_snotel)\n",
    "run_difference(taylor_snobal, taylor_snobal_72, taylor_snotel)"
   ]
  },
  {
   "cell_type": "markdown",
   "metadata": {},
   "source": [
    "## ERW basin \n",
    "### Before Albedo decay"
   ]
  },
  {
   "cell_type": "code",
   "execution_count": null,
   "metadata": {},
   "outputs": [],
   "source": [
    "time=slice(\"2017-10-01\", \"2018-03-14\")\n",
    "title = \"ERW Basin - Difference {0} to {1}: {time.start} - {time.stop}\".format('{0}', '{1}', time=time)"
   ]
  },
  {
   "cell_type": "code",
   "execution_count": null,
   "metadata": {},
   "outputs": [],
   "source": [
    "plt.figure(figsize=(12, 8), dpi=200)\n",
    "\n",
    "(\n",
    "    wy_snow_CMP.thickness.sel(time=time).mean(dim=['time']) - \n",
    "    wy_snow_agu.thickness.sel(time=time).mean(dim=['time'])\n",
    ").plot(cmap='RdBu')\n",
    "\n",
    "plt.title(title.format(VERSION_CMP, AGU_VERSION));"
   ]
  },
  {
   "cell_type": "code",
   "execution_count": null,
   "metadata": {},
   "outputs": [],
   "source": [
    "plt.figure(figsize=(12, 8), dpi=200)\n",
    "\n",
    "(\n",
    "    wy_snow.thickness.sel(time=time).mean(dim=['time']) - \n",
    "    wy_snow_CMP.thickness.sel(time=time).mean(dim=['time'])\n",
    ").plot(cmap='RdBu')\n",
    "\n",
    "plt.title(title.format(CURRENT, VERSION_CMP));"
   ]
  },
  {
   "cell_type": "code",
   "execution_count": null,
   "metadata": {},
   "outputs": [],
   "source": [
    "plt.figure(figsize=(12, 8), dpi=200)\n",
    "\n",
    "(\n",
    "    wy_snow.thickness.sel(time=time).mean(dim=['time']) - \n",
    "    wy_snow_agu.thickness.sel(time=time).mean(dim=['time'])\n",
    ").plot(cmap='RdBu')\n",
    "\n",
    "plt.title(title.format(CURRENT, AGU_VERSION));"
   ]
  },
  {
   "cell_type": "code",
   "execution_count": null,
   "metadata": {},
   "outputs": [],
   "source": [
    "plt.figure(figsize=(12, 8), dpi=200)\n",
    "\n",
    "(\n",
    "    wy_snow_72.thickness.sel(time=time).mean(dim=['time']) - \n",
    "    wy_snow_agu.thickness.sel(time=time).mean(dim=['time'])\n",
    ").plot(cmap='RdBu')\n",
    "\n",
    "plt.title(title.format(ANGLES_72, AGU_VERSION));"
   ]
  },
  {
   "cell_type": "code",
   "execution_count": null,
   "metadata": {},
   "outputs": [],
   "source": [
    "plt.figure(figsize=(12, 8), dpi=200)\n",
    "\n",
    "(\n",
    "    wy_snow.thickness.sel(time=time).mean(dim=['time']) - \n",
    "    wy_snow_72.thickness.sel(time=time).mean(dim=['time'])\n",
    ").plot(cmap='RdBu')\n",
    "plt.plot(butte_snotel.lon[0], butte_snotel.lat[0], 'o', markersize=6)\n",
    "plt.plot(schofield_snotel.lon[0], schofield_snotel.lat[0], 'o', markersize=6)\n",
    "plt.plot(taylor_snotel.lon[0], taylor_snotel.lat[0], 'o', markersize=6)\n",
    "\n",
    "\n",
    "plt.title(title.format(CURRENT, ANGLES_72));"
   ]
  },
  {
   "cell_type": "markdown",
   "metadata": {},
   "source": [
    "### Added Albedo Decay "
   ]
  },
  {
   "cell_type": "code",
   "execution_count": null,
   "metadata": {},
   "outputs": [],
   "source": [
    "time=slice(\"2018-03-15\", \"2018-07-15\")\n",
    "title = \"ERW Basin - Difference {0} to {1}: {time.start} - {time.stop}\".format('{0}', '{1}', time=time)"
   ]
  },
  {
   "cell_type": "code",
   "execution_count": null,
   "metadata": {},
   "outputs": [],
   "source": [
    "plt.figure(figsize=(12, 8), dpi=200)\n",
    "\n",
    "(\n",
    "    wy_snow_CMP.thickness.sel(time=time).mean(dim=['time']) - \n",
    "    wy_snow_agu.thickness.sel(time=time).mean(dim=['time'])\n",
    ").plot(cmap='RdBu')\n",
    "\n",
    "plt.title(title.format(VERSION_CMP, AGU_VERSION));"
   ]
  },
  {
   "cell_type": "code",
   "execution_count": null,
   "metadata": {},
   "outputs": [],
   "source": [
    "plt.figure(figsize=(12, 8), dpi=200)\n",
    "\n",
    "(\n",
    "    wy_snow.thickness.sel(time=time).mean(dim=['time']) - \n",
    "    wy_snow_CMP.thickness.sel(time=time).mean(dim=['time'])\n",
    ").plot(cmap='RdBu')\n",
    "\n",
    "plt.title(title.format(CURRENT, VERSION_CMP));"
   ]
  },
  {
   "cell_type": "code",
   "execution_count": null,
   "metadata": {},
   "outputs": [],
   "source": [
    "plt.figure(figsize=(12, 8), dpi=200)\n",
    "\n",
    "(\n",
    "    wy_snow.thickness.sel(time=time).mean(dim=['time']) - \n",
    "    wy_snow_agu.thickness.sel(time=time).mean(dim=['time'])\n",
    ").plot(cmap='RdBu')\n",
    "\n",
    "plt.title(title.format(CURRENT, AGU_VERSION));"
   ]
  },
  {
   "cell_type": "code",
   "execution_count": null,
   "metadata": {},
   "outputs": [],
   "source": [
    "fig, (ax1) = plt.subplots(1, 1, figsize=(12, 8), dpi=200)\n",
    "\n",
    "(\n",
    "    wy_snow_72.thickness.sel(time=time).mean(dim=['time']) - \n",
    "    wy_snow_agu.thickness.sel(time=time).mean(dim=['time'])\n",
    ").plot(ax=ax1, cmap='RdBu')\n",
    "\n",
    "plt.title(title.format(ANGLES_72, AGU_VERSION));"
   ]
  },
  {
   "cell_type": "code",
   "execution_count": null,
   "metadata": {},
   "outputs": [],
   "source": [
    "fig, (ax1) = plt.subplots(1, 1, figsize=(12, 8), dpi=200)\n",
    "\n",
    "(\n",
    "    wy_snow.thickness.sel(time=time).mean(dim=['time']) - \n",
    "    wy_snow_72.thickness.sel(time=time).mean(dim=['time'])\n",
    ").plot(ax=ax1, cmap='RdBu')\n",
    "\n",
    "plt.title(title.format(CURRENT, ANGLES_72));"
   ]
  },
  {
   "cell_type": "code",
   "execution_count": null,
   "metadata": {},
   "outputs": [],
   "source": []
  }
 ],
 "metadata": {
  "language_info": {
   "name": "python"
  }
 },
 "nbformat": 4,
 "nbformat_minor": 4
}
