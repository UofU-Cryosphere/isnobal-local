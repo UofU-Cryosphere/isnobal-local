{
 "cells": [
  {
   "cell_type": "code",
   "execution_count": null,
   "metadata": {},
   "outputs": [],
   "source": [
    "from common import *\n",
    "from snotel_sites import SNOTEL\n",
    "from dask_cluster import start_cluster\n",
    "import dask"
   ]
  },
  {
   "cell_type": "code",
   "execution_count": null,
   "metadata": {},
   "outputs": [],
   "source": [
    "client = start_cluster(4, 8)\n",
    "client"
   ]
  },
  {
   "cell_type": "code",
   "execution_count": null,
   "metadata": {},
   "outputs": [],
   "source": [
    "def write_day(date):\n",
    "    comp = dict(zlib=True, complevel=5)\n",
    "\n",
    "    home = PurePath(f'{Path.home()}/shared-cyrosphere/Rittger_albedo/')\n",
    "    year = f\"{date.year}-vrt\"\n",
    "\n",
    "    date_str = date.strftime('%Y%m%d')\n",
    "    file = f\"WesternUS_{date_str}_albedo_muz_32613.vrt\"\n",
    "\n",
    "    day = xr.open_rasterio(\n",
    "        home.joinpath(year, file).as_posix()\n",
    "    )\n",
    "    day = day.expand_dims({'time': [date]})\n",
    "    day.attrs['scale_factor'] = 0.0001\n",
    "    del day.attrs['scales']\n",
    "    del day.attrs['offsets']\n",
    "    del day.attrs['is_tiled']\n",
    "    day.name = 'albedo_muz'\n",
    "    day = day.to_dataset()\n",
    "    \n",
    "    encoding = {var: comp for var in day.data_vars}\n",
    "\n",
    "    day.to_netcdf(\n",
    "        home.joinpath(f\"{date.year}-nc\", f\"WesternUS_{date_str}.nc\").as_posix(), \n",
    "        encoding=encoding,\n",
    "    )\n",
    "    del day"
   ]
  },
  {
   "cell_type": "code",
   "execution_count": null,
   "metadata": {},
   "outputs": [],
   "source": [
    "dask_queue = []\n",
    "\n",
    "for date in pd.date_range(start='2019-01-01', end='2019-09-30'):   \n",
    "    dask_queue.append(\n",
    "        dask.delayed(write_day)(date)\n",
    "    )"
   ]
  },
  {
   "cell_type": "code",
   "execution_count": null,
   "metadata": {},
   "outputs": [],
   "source": [
    "dask.compute(dask_queue);"
   ]
  },
  {
   "cell_type": "code",
   "execution_count": null,
   "metadata": {},
   "outputs": [],
   "source": []
  }
 ],
 "metadata": {
  "language_info": {
   "name": "python"
  }
 },
 "nbformat": 4,
 "nbformat_minor": 4
}
