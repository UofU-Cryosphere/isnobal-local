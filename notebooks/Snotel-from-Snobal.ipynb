{
 "cells": [
  {
   "cell_type": "markdown",
   "metadata": {},
   "source": [
    "Extract Snotel location data from Snobal run results"
   ]
  },
  {
   "cell_type": "code",
   "execution_count": null,
   "metadata": {},
   "outputs": [],
   "source": [
    "import datetime\n",
    "import xarray as xr\n",
    "\n",
    "from pathlib import PurePath, Path\n",
    "from dask_cluster import CHPC, start_cluster"
   ]
  },
  {
   "cell_type": "code",
   "execution_count": null,
   "metadata": {},
   "outputs": [],
   "source": [
    "\"\"\"\n",
    "38.89433 -106.95300\t330628\t4306863 0  # Butte\n",
    "39.01522 -107.04877\t322624\t4320462 0  # Schofield\n",
    "38.99077 -106.75422\t348074\t4317216 0  # Upper Taylor\n",
    "\n",
    "\"\"\"\n",
    "SNOTEL = {\n",
    "    'Butte': {\n",
    "        'lon': 330628,\n",
    "        'lat': 4306863,\n",
    "    },\n",
    "    'Schofield': {\n",
    "        'lon': 322624,\n",
    "        'lat': 4320462,\n",
    "    },\n",
    "    'Taylor': {\n",
    "        'lon': 348074,\n",
    "        'lat': 4317216,\n",
    "    },\n",
    "}"
   ]
  },
  {
   "cell_type": "code",
   "execution_count": null,
   "metadata": {},
   "outputs": [],
   "source": [
    "client = start_cluster(4, 8)"
   ]
  },
  {
   "cell_type": "code",
   "execution_count": null,
   "metadata": {},
   "outputs": [],
   "source": [
    "home = PurePath(f'{Path.home()}/scratch/iSnobal/runs/run201[7,8]*')\n",
    "snow_nc = 'snow.nc'"
   ]
  },
  {
   "cell_type": "markdown",
   "metadata": {},
   "source": [
    "## Snobal "
   ]
  },
  {
   "cell_type": "code",
   "execution_count": null,
   "metadata": {},
   "outputs": [],
   "source": [
    "snow = xr.open_mfdataset(\n",
    "    str(home.joinpath(snow_nc)),\n",
    "    parallel=True,\n",
    ").sel(time=datetime.time(23))"
   ]
  },
  {
   "cell_type": "code",
   "execution_count": null,
   "metadata": {},
   "outputs": [],
   "source": [
    "butte = snow.sel(x=SNOTEL['Butte']['lon'], y=SNOTEL['Butte']['lat'], method='nearest')\n",
    "schofield = snow.sel(x=SNOTEL['Schofield']['lon'], y=SNOTEL['Schofield']['lat'], method='nearest')\n",
    "taylor = snow.sel(x=SNOTEL['Taylor']['lon'], y=SNOTEL['Taylor']['lat'], method='nearest')"
   ]
  },
  {
   "cell_type": "markdown",
   "metadata": {},
   "source": [
    "## Write compressed"
   ]
  },
  {
   "cell_type": "code",
   "execution_count": null,
   "metadata": {},
   "outputs": [],
   "source": [
    "comp = dict(zlib=True, complevel=5)\n",
    "encoding = {var: comp for var in taylor.data_vars}\n",
    "\n",
    "taylor.to_netcdf(\n",
    "    PurePath(f'{Path.home()}/scratch/iSnobal/taylor.zarr').as_posix(), \n",
    "    encoding=encoding,\n",
    "    compute=True\n",
    ")"
   ]
  }
 ],
 "metadata": {
  "kernelspec": {
   "display_name": "Python [conda env:snow_viz]",
   "language": "python",
   "name": "conda-env-snow_viz-py"
  },
  "language_info": {
   "codemirror_mode": {
    "name": "ipython",
    "version": 3
   },
   "file_extension": ".py",
   "mimetype": "text/x-python",
   "name": "python",
   "nbconvert_exporter": "python",
   "pygments_lexer": "ipython3",
   "version": "3.8.6"
  }
 },
 "nbformat": 4,
 "nbformat_minor": 4
}
