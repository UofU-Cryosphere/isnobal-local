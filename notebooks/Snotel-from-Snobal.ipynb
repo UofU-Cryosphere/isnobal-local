{
 "cells": [
  {
   "cell_type": "markdown",
   "metadata": {},
   "source": [
    "Extract Snotel location data from Snobal run results"
   ]
  },
  {
   "cell_type": "code",
   "execution_count": null,
   "metadata": {},
   "outputs": [],
   "source": [
    "import datetime\n",
    "import xarray as xr\n",
    "\n",
    "from pathlib import PurePath, Path\n",
    "\n",
    "from dask_cluster import CHPC, start_cluster\n",
    "from snote_sites import SNOTEL"
   ]
  },
  {
   "cell_type": "code",
   "execution_count": null,
   "metadata": {},
   "outputs": [],
   "source": [
    "client = start_cluster(4, 8)\n",
    "client"
   ]
  },
  {
   "cell_type": "code",
   "execution_count": null,
   "metadata": {},
   "outputs": [],
   "source": [
    "home = PurePath(f'{Path.home()}/scratch/iSnobal/runs/run201[7,8]*')\n",
    "snow_nc = 'snow.nc'"
   ]
  },
  {
   "cell_type": "code",
   "execution_count": null,
   "metadata": {},
   "outputs": [],
   "source": [
    "snow = xr.open_mfdataset(\n",
    "    str(home.joinpath(snow_nc)),\n",
    "    parallel=True,\n",
    ").sel(time=datetime.time(23))"
   ]
  },
  {
   "cell_type": "code",
   "execution_count": null,
   "metadata": {},
   "outputs": [],
   "source": [
    "comp = dict(zlib=True, complevel=5)\n",
    "\n",
    "def write_snotel(site):\n",
    "    snotel_site = snow.sel(x=SNOTEL[site]['snobal']['lon'], y=SNOTEL[site]['snobal']['lat'])\n",
    "    encoding = {var: comp for var in snotel_site.data_vars}\n",
    "\n",
    "    snotel_site.to_netcdf(\n",
    "        PurePath(f'{Path.home()}/scratch/iSnobal/{site}-snobal.zarr').as_posix(), \n",
    "        encoding=encoding,\n",
    "        compute=True\n",
    "    )"
   ]
  },
  {
   "cell_type": "code",
   "execution_count": null,
   "metadata": {},
   "outputs": [],
   "source": [
    "for site in SNOTEL.keys():\n",
    "    write_snotel(site)"
   ]
  },
  {
   "cell_type": "code",
   "execution_count": null,
   "metadata": {},
   "outputs": [],
   "source": []
  }
 ],
 "metadata": {
  "kernelspec": {
   "display_name": "Python [conda env:snow_viz]",
   "language": "python",
   "name": "conda-env-snow_viz-py"
  },
  "language_info": {
   "codemirror_mode": {
    "name": "ipython",
    "version": 3
   },
   "file_extension": ".py",
   "mimetype": "text/x-python",
   "name": "python",
   "nbconvert_exporter": "python",
   "pygments_lexer": "ipython3",
   "version": "3.8.6"
  }
 },
 "nbformat": 4,
 "nbformat_minor": 4
}
