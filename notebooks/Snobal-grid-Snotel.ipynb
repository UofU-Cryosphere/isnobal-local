{
 "cells": [
  {
   "cell_type": "code",
   "execution_count": null,
   "metadata": {},
   "outputs": [],
   "source": [
    "from common import *\n",
    "from snotel_sites import SNOTEL"
   ]
  },
  {
   "cell_type": "code",
   "execution_count": null,
   "metadata": {},
   "outputs": [],
   "source": [
    "def plot_snobal_snotel(site):\n",
    "    snow = xr.open_dataset(\n",
    "        '/data/iSnobal/runs/run20180330/snow.nc'\n",
    "        ).sel(\n",
    "            x=SNOTEL[site]['snobal']['lon'], \n",
    "            y=SNOTEL[site]['snobal']['lat'], \n",
    "        )\n",
    "\n",
    "    x, y = np.meshgrid(snow.x, snow.y)\n",
    "    half_grid = 25\n",
    "\n",
    "    figure, ax = plt.subplots(1, 1, figsize=(11, 10), dpi=100)\n",
    "    ax.scatter(SNOTEL[site]['lon'], SNOTEL[site]['lat'], s=150, label='Site location')\n",
    "    ax.scatter(x.flatten(), y.flatten(), s=150, label='Cell center')\n",
    "    plt.grid(True)\n",
    "    ax.ticklabel_format(useOffset=False)\n",
    "    ax.set_xticks(np.arange(snow.x[0] - half_grid, snow.x[-1] + half_grid + 1, 50))\n",
    "    ax.set_yticks(np.arange(snow.y[0] - half_grid, snow.y[-1] + half_grid + 1, 50))\n",
    "    ax.set_xlim(left=snow.x[0] - half_grid, right=snow.x[-1] + half_grid)\n",
    "    ax.set_ylim(bottom=snow.y[0] - half_grid, top=snow.y[-1] + half_grid)\n",
    "    ax.set_ylabel('Latitude')\n",
    "    ax.set_xlabel('Longitude')\n",
    "    ax.set_title(f'SNOTEL - {site}')\n",
    "    ax.legend()\n",
    "    plt.show()"
   ]
  },
  {
   "cell_type": "code",
   "execution_count": null,
   "metadata": {},
   "outputs": [],
   "source": [
    "for site in SNOTEL.keys():\n",
    "    plot_snobal_snotel(site)"
   ]
  },
  {
   "cell_type": "code",
   "execution_count": null,
   "metadata": {},
   "outputs": [],
   "source": []
  }
 ],
 "metadata": {
  "kernelspec": {
   "display_name": "Python [conda env:snow_viz]",
   "language": "python",
   "name": "conda-env-snow_viz-py"
  },
  "language_info": {
   "codemirror_mode": {
    "name": "ipython",
    "version": 3
   },
   "file_extension": ".py",
   "mimetype": "text/x-python",
   "name": "python",
   "nbconvert_exporter": "python",
   "pygments_lexer": "ipython3",
   "version": "3.8.6"
  }
 },
 "nbformat": 4,
 "nbformat_minor": 4
}
