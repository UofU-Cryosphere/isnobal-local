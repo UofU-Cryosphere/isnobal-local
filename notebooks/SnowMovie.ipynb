{
 "cells": [
  {
   "cell_type": "code",
   "execution_count": null,
   "metadata": {},
   "outputs": [],
   "source": [
    "from dask.distributed import Client, LocalCluster\n",
    "import matplotlib.pyplot as plt\n",
    "import xarray as xr\n",
    "\n",
    "from pathlib import PurePath"
   ]
  },
  {
   "cell_type": "code",
   "execution_count": null,
   "metadata": {},
   "outputs": [],
   "source": [
    "home = PurePath('/data/iSnobal/runs/run201710/run20171*')\n",
    "snow_nc = 'snow.nc'"
   ]
  },
  {
   "cell_type": "code",
   "execution_count": null,
   "metadata": {},
   "outputs": [],
   "source": [
    "cluster = LocalCluster(memory_limit='1.5GB')\n",
    "client = Client(cluster)\n",
    "\n",
    "client"
   ]
  },
  {
   "cell_type": "code",
   "execution_count": null,
   "metadata": {},
   "outputs": [],
   "source": [
    "snow = xr.open_mfdataset(str(home.joinpath(snow_nc)))"
   ]
  },
  {
   "cell_type": "code",
   "execution_count": null,
   "metadata": {},
   "outputs": [],
   "source": [
    "snow.thickness.max().compute()"
   ]
  },
  {
   "cell_type": "code",
   "execution_count": null,
   "metadata": {},
   "outputs": [],
   "source": [
    "str(snow.thickness[0].time.dt.strftime(\"%y%m%d\").values)"
   ]
  },
  {
   "cell_type": "code",
   "execution_count": null,
   "metadata": {},
   "outputs": [],
   "source": [
    "def plot_day(snow_day):\n",
    "    plt.figure(figsize=(10, 10), dpi=150)\n",
    "    snow_day.plot(cmap=plt.cm.Blues, vmax=.75, cbar_kwargs={'label': 'Snow Height'})\n",
    "    plt.xlabel('')\n",
    "    plt.ylabel('')\n",
    "    plt.gca().ticklabel_format(style='plain')\n",
    "    plt.savefig(f'/data/iSnobal/runs/figures/{str(snow_day.time.dt.strftime(\"%y%m%d\").values)}.jpg')\n",
    "    plt.close()"
   ]
  },
  {
   "cell_type": "code",
   "execution_count": null,
   "metadata": {},
   "outputs": [],
   "source": [
    "for snow_day in snow.thickness:\n",
    "    plot_day(snow_day)"
   ]
  },
  {
   "cell_type": "code",
   "execution_count": null,
   "metadata": {},
   "outputs": [],
   "source": [
    "snow.thickness[0].plot(figsize=(10, 10), cmap=plt.cm.Blues, vmax=.75, cbar_kwargs={'label': 'Snow Height'})\n",
    "plt.xlabel('')\n",
    "plt.ylabel('')\n",
    "plt.gca().ticklabel_format(style='plain')"
   ]
  },
  {
   "cell_type": "markdown",
   "metadata": {},
   "source": [
    "### Convert to video using ffmpeg\n",
    "\n",
    "```shell\n",
    "ffmpeg -pattern_type glob -i '*.jpg' -crf 18 -filter:v \"setpts=2.5*PTS\" snow_depth.mp4\n",
    "```"
   ]
  },
  {
   "cell_type": "code",
   "execution_count": null,
   "metadata": {},
   "outputs": [],
   "source": []
  }
 ],
 "metadata": {
  "kernelspec": {
   "display_name": "Python [conda env:snow_viz]",
   "language": "python",
   "name": "conda-env-snow_viz-py"
  },
  "language_info": {
   "codemirror_mode": {
    "name": "ipython",
    "version": 3
   },
   "file_extension": ".py",
   "mimetype": "text/x-python",
   "name": "python",
   "nbconvert_exporter": "python",
   "pygments_lexer": "ipython3",
   "version": "3.8.5"
  }
 },
 "nbformat": 4,
 "nbformat_minor": 4
}
