{
 "cells": [
  {
   "cell_type": "code",
   "execution_count": null,
   "metadata": {},
   "outputs": [],
   "source": [
    "import dask\n",
    "import matplotlib.pyplot as plt\n",
    "import xarray as xr\n",
    "\n",
    "from dask.distributed import Client\n",
    "from pathlib import PurePath, Path\n",
    "\n",
    "CHPC = 'chpc' in str(Path.home())"
   ]
  },
  {
   "cell_type": "code",
   "execution_count": null,
   "metadata": {},
   "outputs": [],
   "source": [
    "home = PurePath(f'{Path.home()}/scratch/iSnobal/runs/run201[7,8]*')\n",
    "snow_nc = 'snow.nc'"
   ]
  },
  {
   "cell_type": "markdown",
   "metadata": {},
   "source": [
    "#### CHPC"
   ]
  },
  {
   "cell_type": "code",
   "execution_count": null,
   "metadata": {},
   "outputs": [],
   "source": [
    "if CHPC:\n",
    "    from dask_jobqueue import SLURMCluster\n",
    "    \n",
    "    cluster = SLURMCluster(\n",
    "        cores=12,\n",
    "        processes=12,\n",
    "        project=\"notchpeak-shared-short\",\n",
    "        queue=\"notchpeak-shared-short\",\n",
    "        memory='12g'\n",
    "    )\n",
    "\n",
    "    from distributed import Client\n",
    "    from dask import delayed\n",
    "\n",
    "    cluster.scale(1)\n",
    "    client = Client(cluster)\n",
    "else:\n",
    "    from dask.distributed import LocalCluster\n",
    "    \n",
    "    # Assume local\n",
    "    cluster = LocalCluster(memory_limit='1.5GB')\n",
    "    client = Client(cluster)\n",
    "\n",
    "\n",
    "# print(cluster.job_script())\n",
    "client"
   ]
  },
  {
   "cell_type": "code",
   "execution_count": null,
   "metadata": {},
   "outputs": [],
   "source": [
    "snow = xr.open_mfdataset(\n",
    "    str(home.joinpath(snow_nc)),\n",
    "    data_vars=['thickness'],\n",
    "    parallel=True,\n",
    ")"
   ]
  },
  {
   "cell_type": "code",
   "execution_count": null,
   "metadata": {},
   "outputs": [],
   "source": [
    "# max = snow.thickness.max().compute()"
   ]
  },
  {
   "cell_type": "code",
   "execution_count": null,
   "metadata": {},
   "outputs": [],
   "source": [
    "def plot_day(snow_day):\n",
    "    if snow_day.time.dt.hour != 23:\n",
    "        return\n",
    "    \n",
    "    plt.figure(figsize=(10, 10), dpi=150)\n",
    "    snow_day.plot(cmap=plt.cm.Blues, vmax=3, cbar_kwargs={'label': 'Snow Height'})\n",
    "    plt.xlabel('')\n",
    "    plt.ylabel('')\n",
    "    plt.gca().ticklabel_format(style='plain')\n",
    "    plt.savefig(f'{Path.home()}/scratch/iSnobal/plots/{str(snow_day.time.dt.strftime(\"%y%m%d\").values)}.jpg')\n",
    "    plt.close()"
   ]
  },
  {
   "cell_type": "code",
   "execution_count": null,
   "metadata": {},
   "outputs": [],
   "source": [
    "dask_queue = []\n",
    "\n",
    "for snow_day in snow.thickness:\n",
    "    dask_queue.append(\n",
    "        dask.delayed(plot_day)(snow_day)\n",
    "    )"
   ]
  },
  {
   "cell_type": "code",
   "execution_count": null,
   "metadata": {},
   "outputs": [],
   "source": [
    "dask.compute(dask_queue);"
   ]
  },
  {
   "cell_type": "code",
   "execution_count": null,
   "metadata": {},
   "outputs": [],
   "source": [
    "snow.thickness[-1:].plot(figsize=(10, 10), cmap=plt.cm.Blues, cbar_kwargs={'label': 'Snow Height'})\n",
    "plt.xlabel('')\n",
    "plt.ylabel('')\n",
    "plt.gca().ticklabel_format(style='plain')"
   ]
  },
  {
   "cell_type": "markdown",
   "metadata": {},
   "source": [
    "### Convert to video using ffmpeg\n",
    "\n",
    "```shell\n",
    "ffmpeg -pattern_type glob -i '*.jpg' -crf 18 -filter:v \"setpts=2.5*PTS\" snow_depth.mp4\n",
    "```"
   ]
  }
 ],
 "metadata": {
  "kernelspec": {
   "display_name": "snow_viz",
   "language": "python",
   "name": "snow_viz"
  },
  "language_info": {
   "codemirror_mode": {
    "name": "ipython",
    "version": 3
   },
   "file_extension": ".py",
   "mimetype": "text/x-python",
   "name": "python",
   "nbconvert_exporter": "python",
   "pygments_lexer": "ipython3",
   "version": "3.8.3"
  }
 },
 "nbformat": 4,
 "nbformat_minor": 4
}
