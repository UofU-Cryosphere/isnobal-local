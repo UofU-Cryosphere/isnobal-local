{
 "cells": [
  {
   "cell_type": "code",
   "execution_count": null,
   "metadata": {},
   "outputs": [],
   "source": [
    "import dask\n",
    "import datetime\n",
    "import matplotlib.pyplot as plt\n",
    "import xarray as xr\n",
    "\n",
    "from pathlib import PurePath, Path\n",
    "from dask_cluster import CHPC, start_cluster"
   ]
  },
  {
   "cell_type": "code",
   "execution_count": null,
   "metadata": {},
   "outputs": [],
   "source": [
    "home = PurePath(f'{Path.home()}/scratch/iSnobal/runs/run201[7,8]*')\n",
    "snow_nc = 'snow.nc'"
   ]
  },
  {
   "cell_type": "code",
   "execution_count": null,
   "metadata": {},
   "outputs": [],
   "source": [
    "start_cluster(cores=8, memory=12)"
   ]
  },
  {
   "cell_type": "code",
   "execution_count": null,
   "metadata": {},
   "outputs": [],
   "source": [
    "snow = xr.open_mfdataset(\n",
    "    home.joinpath(snow_nc).as_posix(),\n",
    "    data_vars=['thickness'],\n",
    "    parallel=True,\n",
    ").sel(time=datetime.time(23))"
   ]
  },
  {
   "cell_type": "code",
   "execution_count": null,
   "metadata": {},
   "outputs": [],
   "source": [
    "def plot_day(snow_day):\n",
    "    plt.figure(figsize=(10, 10), dpi=300, tight_layout=True)\n",
    "    snow_day.plot(\n",
    "        cmap=plt.cm.Blues, vmax=3, \n",
    "        cbar_kwargs={'label': 'Snow Height'}\n",
    "    )\n",
    "    plt.xlabel('')\n",
    "    plt.ylabel('')\n",
    "    plt.gca().ticklabel_format(style='plain')\n",
    "    plt.title(snow_day.time.dt.strftime('%Y-%m-%d').values)\n",
    "    plt.savefig(f'{Path.home()}/scratch/iSnobal/plots/{str(snow_day.time.dt.strftime(\"%y%m%d\").values)}.jpg')\n",
    "    plt.close()"
   ]
  },
  {
   "cell_type": "code",
   "execution_count": null,
   "metadata": {},
   "outputs": [],
   "source": [
    "dask_queue = []\n",
    "\n",
    "for snow_day in snow.thickness:\n",
    "    dask_queue.append(\n",
    "        dask.delayed(plot_day)(snow_day)\n",
    "    )"
   ]
  },
  {
   "cell_type": "code",
   "execution_count": null,
   "metadata": {},
   "outputs": [],
   "source": [
    "dask.compute(dask_queue);"
   ]
  },
  {
   "cell_type": "markdown",
   "metadata": {},
   "source": [
    "### Convert to video using ffmpeg\n",
    "\n",
    "```shell\n",
    "ffmpeg -pattern_type glob -i '*.jpg' -crf 18 -filter:v \"setpts=2.5*PTS\" snow_depth.mp4\n",
    "```"
   ]
  }
 ],
 "metadata": {
  "kernelspec": {
   "display_name": "snow_viz",
   "language": "python",
   "name": "snow_viz"
  },
  "language_info": {
   "codemirror_mode": {
    "name": "ipython",
    "version": 3
   },
   "file_extension": ".py",
   "mimetype": "text/x-python",
   "name": "python",
   "nbconvert_exporter": "python",
   "pygments_lexer": "ipython3",
   "version": "3.8.3"
  }
 },
 "nbformat": 4,
 "nbformat_minor": 4
}
