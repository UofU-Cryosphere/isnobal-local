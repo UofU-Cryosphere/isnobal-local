{
 "cells": [
  {
   "cell_type": "code",
   "execution_count": null,
   "metadata": {},
   "outputs": [],
   "source": [
    "import rasterio\n",
    "\n",
    "from rasterio.plot import show\n",
    "from palettable.colorbrewer.diverging import RdBu_5 as RedBlueCmap\n",
    "\n",
    "RED_BLUE_CMAP = RedBlueCmap.mpl_colormap\n",
    "from common import *"
   ]
  },
  {
   "cell_type": "markdown",
   "metadata": {},
   "source": [
    "## Snow Depth comparison "
   ]
  },
  {
   "cell_type": "code",
   "execution_count": null,
   "metadata": {},
   "outputs": [],
   "source": [
    "differences = {}\n",
    "dates = ['0331', '0524']\n",
    "FILE_PREFIX = 'depth_difference_50m_2018'\n",
    "home = PurePath(f'{Path.home()}/scratch/iSnobal/2018-ASO-data/Depth/')"
   ]
  },
  {
   "cell_type": "code",
   "execution_count": null,
   "metadata": {},
   "outputs": [],
   "source": [
    "for date in dates:\n",
    "    snow_nc = f'{FILE_PREFIX}{date}.tif'\n",
    "    file = rasterio.open(home.joinpath(snow_nc).as_posix())\n",
    "    differences[date] = file.read(1, masked=True).compressed()"
   ]
  },
  {
   "cell_type": "code",
   "execution_count": null,
   "metadata": {},
   "outputs": [],
   "source": [
    "def violin_plot(ax, data, title, color):\n",
    "    vp = ax.violinplot(\n",
    "        data,\n",
    "        showmeans=False, showextrema=False, showmedians=True,\n",
    "    )\n",
    "    ax.set_xticks([])\n",
    "    ax.axhline(0, c='black', ls=':')\n",
    "    \n",
    "    for pc in vp['bodies']:\n",
    "        pc.set_facecolor(color)\n",
    "        pc.set_edgecolor('black')\n",
    "    \n",
    "    vp['cmedians'].set_color('black')\n",
    "\n",
    "    return vp"
   ]
  },
  {
   "cell_type": "code",
   "execution_count": null,
   "metadata": {},
   "outputs": [],
   "source": [
    "def area_plot(date):\n",
    "    snow_nc = f'{FILE_PREFIX}{date}.tif'\n",
    "    file = rasterio.open(home.joinpath(snow_nc).as_posix())\n",
    "    data = file.read(1, masked=True)\n",
    "\n",
    "    fig, (ax1, ax2) = plt.subplots(\n",
    "        1, 2, figsize=(6.3,4), \n",
    "        gridspec_kw={'width_ratios': [3, 7]},\n",
    "        dpi=300, \n",
    "    )\n",
    "    fig.set_facecolor('lightgrey')\n",
    "    ax2.set_facecolor('lightslategrey')\n",
    "\n",
    "    plt_data = ax2.imshow(\n",
    "        data,\n",
    "        vmin=-2,\n",
    "        vmax=2,\n",
    "        cmap=RED_BLUE_CMAP\n",
    "    )\n",
    "    show(\n",
    "        data,\n",
    "        ax=ax2,\n",
    "        transform=file.transform, \n",
    "        vmin=-2,\n",
    "        vmax=2,\n",
    "        cmap=RED_BLUE_CMAP\n",
    "    )\n",
    "    ax2.tick_params(axis='both', direction='inout', length=7, labelsize=9, pad=0)\n",
    "    ax2.tick_params(axis='y', labelrotation=45)\n",
    "    ax2.ticklabel_format(axis='both', style='plain')\n",
    "    ax2.xaxis.set_ticks_position('both')\n",
    "    ax2.yaxis.set_ticks_position('both')\n",
    "    \n",
    "    fig.colorbar(plt_data, shrink=0.9, extend='both', label='Depth Difference (m)')\n",
    "    fig.suptitle(datetime.datetime.strptime(f\"2018{date}\", '%Y%m%d').date().isoformat(), y=0.94)\n",
    "        \n",
    "    violin_plot(ax1, differences[date], date, 'orange')\n",
    "    ax1.set_ylabel('Snow Depth (m)')\n",
    "    ax1.set_ylim([-2, 2])\n",
    "    ax1.tick_params(axis='y', labelsize=9)\n",
    "    plt.savefig(f\"/data/iSnobal/figures/ASO_depth_difference_{date}.png\")\n"
   ]
  },
  {
   "cell_type": "code",
   "execution_count": null,
   "metadata": {},
   "outputs": [],
   "source": [
    "for date in dates:\n",
    "    area_plot(date)\n",
    "    print(f'Median - {}: {np.median(differences[date]):.2f}')\n"
   ]
  },
  {
   "cell_type": "code",
   "execution_count": null,
   "metadata": {},
   "outputs": [],
   "source": []
  }
 ],
 "metadata": {
  "kernelspec": {
   "display_name": "Python [conda env:snow_viz]",
   "language": "python",
   "name": "conda-env-snow_viz-py"
  },
  "language_info": {
   "codemirror_mode": {
    "name": "ipython",
    "version": 3
   },
   "file_extension": ".py",
   "mimetype": "text/x-python",
   "name": "python",
   "nbconvert_exporter": "python",
   "pygments_lexer": "ipython3",
   "version": "3.8.6"
  }
 },
 "nbformat": 4,
 "nbformat_minor": 4
}
