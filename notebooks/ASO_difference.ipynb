{
 "cells": [
  {
   "cell_type": "code",
   "execution_count": null,
   "metadata": {},
   "outputs": [],
   "source": [
    "import rasterio\n",
    "\n",
    "from rasterio.plot import show\n",
    "from palettable.colorbrewer.diverging import RdBu_5 as RedBlueCmap\n",
    "from mpl_toolkits.axes_grid1 import make_axes_locatable\n",
    "\n",
    "RED_BLUE_CMAP = RedBlueCmap.mpl_colormap\n",
    "from common import *\n",
    "\n",
    "plt.rcParams.update(\n",
    "    {\n",
    "        'xtick.labelsize' : 10,\n",
    "        'ytick.labelsize' : 10,\n",
    "    }\n",
    ")"
   ]
  },
  {
   "cell_type": "markdown",
   "metadata": {},
   "source": [
    "## Snow Depth comparison "
   ]
  },
  {
   "cell_type": "code",
   "execution_count": null,
   "metadata": {},
   "outputs": [],
   "source": [
    "differences = {}\n",
    "dates = ['0331', '0524']\n",
    "FILE_PREFIX = 'depth_difference_50m_2018'\n",
    "home = PurePath(f'{Path.home()}/scratch/iSnobal/2018-ASO-data/Depth/')"
   ]
  },
  {
   "cell_type": "code",
   "execution_count": null,
   "metadata": {},
   "outputs": [],
   "source": [
    "for date in dates:\n",
    "    snow_nc = f'{FILE_PREFIX}{date}.tif'\n",
    "    file = rasterio.open(home.joinpath(snow_nc).as_posix())\n",
    "    differences[date] = file.read(1, masked=True).compressed()"
   ]
  },
  {
   "cell_type": "code",
   "execution_count": null,
   "metadata": {},
   "outputs": [],
   "source": [
    "def violin_plot(ax, data, title, color):\n",
    "    vp = ax.violinplot(\n",
    "        data,\n",
    "        showmeans=False, showextrema=False, showmedians=True,\n",
    "    )\n",
    "    ax.set_xticks([])\n",
    "    ax.axhline(0, c='black', ls=':')\n",
    "    \n",
    "    for pc in vp['bodies']:\n",
    "        pc.set_facecolor(color)\n",
    "        pc.set_edgecolor('black')\n",
    "    \n",
    "    vp['cmedians'].set_color('black')\n",
    "\n",
    "    return vp"
   ]
  },
  {
   "cell_type": "code",
   "execution_count": null,
   "metadata": {},
   "outputs": [],
   "source": [
    "def area_plot(date):\n",
    "    snow_nc = f'{FILE_PREFIX}{date}.tif'\n",
    "    file = rasterio.open(home.joinpath(snow_nc).as_posix())\n",
    "    data = file.read(1, masked=True)\n",
    "\n",
    "    fig, (ax1, ax2) = plt.subplots(\n",
    "        1, 2, figsize=(7, 3.5),\n",
    "        gridspec_kw={'width_ratios': [7, 3], 'wspace': 0.2},\n",
    "        dpi=300,\n",
    "    )\n",
    "    fig.set_facecolor('lightgrey')\n",
    "    ax1.set_facecolor('lightslategrey')\n",
    "\n",
    "    plt_data = ax1.imshow(\n",
    "        data,\n",
    "        vmin=-2,\n",
    "        vmax=2,\n",
    "        cmap=RED_BLUE_CMAP\n",
    "    )\n",
    "    show(\n",
    "        data,\n",
    "        ax=ax1,\n",
    "        transform=file.transform, \n",
    "        vmin=-2,\n",
    "        vmax=2,\n",
    "        cmap=RED_BLUE_CMAP\n",
    "    )\n",
    "    ax1.tick_params(axis='both', direction='inout', length=7, labelsize=9, pad=0)\n",
    "    ax1.tick_params(axis='y', labelrotation=45)\n",
    "    ax1.ticklabel_format(axis='both', style='plain')\n",
    "    ax1.xaxis.set_ticks_position('both')\n",
    "    ax1.yaxis.set_ticks_position('both')\n",
    "    \n",
    "    cax = make_axes_locatable(ax1).append_axes('right', size='5%', pad=0.15)\n",
    "    fig.colorbar(plt_data, cax=cax, shrink=0.9, extend='both', label=r'$\\Delta$ Depth (m)')\n",
    "    fig.suptitle(datetime.datetime.strptime(f\"2018{date}\", '%Y%m%d').date().isoformat(), y=0.94)\n",
    "        \n",
    "    violin_plot(ax2, differences[date], date, 'orange')\n",
    "    ax2.set_ylabel(None)\n",
    "    ax2.set_ylim([-2, 2])\n",
    "    ax2.tick_params(axis='y', labelsize=9)\n",
    "    plt.savefig(f\"/data/iSnobal/figures/ASO_depth_difference_{date}.png\")\n"
   ]
  },
  {
   "cell_type": "code",
   "execution_count": null,
   "metadata": {},
   "outputs": [],
   "source": [
    "for date in dates:\n",
    "    area_plot(date)\n",
    "    print(f'Median - {date}: {np.median(differences[date]):.2f}')\n"
   ]
  },
  {
   "cell_type": "code",
   "execution_count": null,
   "metadata": {},
   "outputs": [],
   "source": []
  }
 ],
 "metadata": {
  "kernelspec": {
   "display_name": "Python [conda env:snow_viz]",
   "language": "python",
   "name": "conda-env-snow_viz-py"
  },
  "language_info": {
   "codemirror_mode": {
    "name": "ipython",
    "version": 3
   },
   "file_extension": ".py",
   "mimetype": "text/x-python",
   "name": "python",
   "nbconvert_exporter": "python",
   "pygments_lexer": "ipython3",
   "version": "3.8.6"
  }
 },
 "nbformat": 4,
 "nbformat_minor": 4
}
