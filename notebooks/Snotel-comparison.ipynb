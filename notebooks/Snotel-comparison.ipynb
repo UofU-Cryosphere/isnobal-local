{
 "cells": [
  {
   "cell_type": "code",
   "execution_count": null,
   "metadata": {},
   "outputs": [],
   "source": [
    "from common import *\n",
    "import matplotlib.dates as mdates"
   ]
  },
  {
   "cell_type": "markdown",
   "metadata": {},
   "source": [
    "## Snobal "
   ]
  },
  {
   "cell_type": "code",
   "execution_count": null,
   "metadata": {},
   "outputs": [],
   "source": [
    "snobal_dir = f'{Path.home()}/scratch/iSnobal/Snotel/2x2-grid'\n",
    "coarsen_opts = dict(x=2, y=2, keep_attrs=True)\n",
    "\n",
    "schofield_snobal = xr.open_dataset(f'{snobal_dir}/2018-Schofield-snobal.zarr')\n",
    "butte_snobal = xr.open_dataset(f'{snobal_dir}/2018-Butte-snobal.zarr')\n",
    "taylor_snobal = xr.open_dataset(f'{snobal_dir}/2018-Taylor-snobal.zarr')"
   ]
  },
  {
   "cell_type": "markdown",
   "metadata": {},
   "source": [
    "## SNOTEL"
   ]
  },
  {
   "cell_type": "code",
   "execution_count": null,
   "metadata": {},
   "outputs": [],
   "source": [
    "csv_parser_opts = dict(\n",
    "    comment='#',\n",
    "    parse_dates=True,\n",
    "    index_col=0,\n",
    "    names=['Date', 'Depth(m)', 'SWE(mm)', 'Density(kg/m3)', 'Wind(km/h)', 'Air-T(C)'],\n",
    "    header=0,\n",
    ")\n",
    "\n",
    "schofield_snotel = pd.read_csv(\n",
    "    f'{Path.home()}/scratch/iSnobal/Snotel/2018-Schofield-Snotel.csv',\n",
    "    **csv_parser_opts,\n",
    ")\n",
    "schofield_snotel['Depth(m)'] = schofield_snotel['Depth(m)'] / 100\n",
    "schofield_snotel['Density(kg/m3)'] = schofield_snotel['Density(kg/m3)'] * 10\n",
    "\n",
    "butte_snotel = pd.read_csv(\n",
    "    f'{Path.home()}/scratch/iSnobal/Snotel/2018-Butte-Snotel.csv',\n",
    "    **csv_parser_opts,\n",
    ")\n",
    "butte_snotel['Depth(m)'] = butte_snotel['Depth(m)'] / 100\n",
    "butte_snotel['Density(kg/m3)'] = butte_snotel['Density(kg/m3)'] * 10\n",
    "\n",
    "taylor_snotel = pd.read_csv(\n",
    "    f'{Path.home()}/scratch/iSnobal/Snotel/2018-Upper-Taylor-Snotel.csv',\n",
    "    **csv_parser_opts,\n",
    ")\n",
    "taylor_snotel['Depth(m)'] = taylor_snotel['Depth(m)'] / 100\n",
    "taylor_snotel['Density(kg/m3)'] = taylor_snotel['Density(kg/m3)'] * 10"
   ]
  },
  {
   "cell_type": "markdown",
   "metadata": {},
   "source": [
    "## Plot data"
   ]
  },
  {
   "cell_type": "code",
   "execution_count": null,
   "metadata": {},
   "outputs": [],
   "source": [
    "plot_data = {\n",
    "    'Butte': {\n",
    "        'min': butte_snobal.coarsen(**coarsen_opts).min(),\n",
    "        'max': butte_snobal.coarsen(**coarsen_opts).max(),\n",
    "        'snotel': butte_snotel,\n",
    "    },\n",
    "    'Schofield Pass': {\n",
    "        'min': schofield_snobal.coarsen(**coarsen_opts).min(),\n",
    "        'max': schofield_snobal.coarsen(**coarsen_opts).max(),\n",
    "        'snotel': schofield_snotel,\n",
    "    },\n",
    "    'Upper Taylor': {\n",
    "        'min': taylor_snobal.coarsen(**coarsen_opts).min(),\n",
    "        'max': taylor_snobal.coarsen(**coarsen_opts).max(),\n",
    "        'snotel': taylor_snotel,\n",
    "    },\n",
    "}"
   ]
  },
  {
   "cell_type": "code",
   "execution_count": null,
   "metadata": {},
   "outputs": [],
   "source": [
    "figure_opts = dict(figsize=(6,4), dpi=300, tight_layout=True)\n",
    "water_year = pd.date_range(start='2017-10-01', periods=11, freq='MS')\n",
    "text_props = dict(facecolor='whitesmoke', alpha=0.5, pad=.5, boxstyle='round')\n",
    "\n",
    "xTicks = mdates.DateFormatter('%d-%b')\n",
    "\n",
    "def plot_variable(snobal, snotel, title, label):\n",
    "    for site in plot_data.keys():\n",
    "        figure, ax = plt.subplots(1, 1, **figure_opts)\n",
    "        figure.set_facecolor('lightgrey')\n",
    "        \n",
    "        plot_data[site]['min'][snobal].plot(ax=ax, c='slategrey', alpha=0.8)\n",
    "        plot_data[site]['max'][snobal].plot(ax=ax, c='slategrey', alpha=0.8)\n",
    "        ax.fill_between(\n",
    "            plot_data[site]['min'].time, \n",
    "            plot_data[site]['min'][snobal].data.flatten(), \n",
    "            plot_data[site]['max'][snobal].data.flatten(),\n",
    "            label='Snobal',\n",
    "            color='navajowhite', alpha=0.8\n",
    "        )\n",
    "        plot_data[site]['snotel'][snotel].plot(ax=ax, c='steelblue', label='Snotel')\n",
    "        \n",
    "        ax.text(\n",
    "            0.03, 0.95, \n",
    "            site,\n",
    "            style='italic',\n",
    "            transform=ax.transAxes, \n",
    "            verticalalignment='top', \n",
    "            bbox=text_props\n",
    "        )\n",
    "        \n",
    "        ax.legend(loc='upper right');\n",
    "        ax.xaxis.set_major_formatter(xTicks)\n",
    "        ax.set_xlim([water_year[0], water_year[-1]])\n",
    "        ax.set_xlabel('Water Year 2018')\n",
    "        ax.set_ylim(bottom=0)\n",
    "        ax.set_ylabel(label)\n",
    "        ax.set_title(None);\n",
    "        \n",
    "        filename = f'{title}_{site}'.replace(' ', '-')\n",
    "        plt.savefig(f\"/data/iSnobal/figures/{filename}.png\")\n",
    "        "
   ]
  },
  {
   "cell_type": "markdown",
   "metadata": {},
   "source": [
    "## Comparison stats "
   ]
  },
  {
   "cell_type": "code",
   "execution_count": null,
   "metadata": {},
   "outputs": [],
   "source": [
    "for site in plot_data.keys():\n",
    "    snobal_min = int(plot_data[site]['min']['specific_mass'].sum())\n",
    "    snobal_max = int(plot_data[site]['max']['specific_mass'].sum())\n",
    "    snotel = int(plot_data[site]['snotel']['SWE(mm)'].sum())\n",
    "\n",
    "    print(f'{site}:')\n",
    "    print(f\" Snobal max: {snobal_max} mm\")\n",
    "    print(f\" Snobal min: {snobal_min} mm\")\n",
    "    print(f\" Snotel: {snotel} mm\")\n",
    "    print(f\" Snotel % min: {snobal_min/snotel:.2%}\")\n",
    "    print(f\" Snotel % max: {snobal_max/snotel:.2%}\")"
   ]
  },
  {
   "cell_type": "code",
   "execution_count": null,
   "metadata": {},
   "outputs": [],
   "source": [
    "melt_start = pd.to_datetime('2018-04-01')\n",
    "\n",
    "for site in plot_data.keys():\n",
    "    print(site)\n",
    "    print('Snobal:')\n",
    "    snobal_depths = plot_data[site]['min']['thickness'].squeeze('x').squeeze('y').to_pandas()\n",
    "    min_date = snobal_depths[(snobal_depths == 0) & (snobal_depths.index > melt_start)].index[0]\n",
    "    print(min_date)\n",
    "    snobal_depths = plot_data[site]['max']['thickness'].squeeze('x').squeeze('y').to_pandas()\n",
    "    max_date = snobal_depths[(snobal_depths == 0) & (snobal_depths.index > melt_start)].index[0]\n",
    "    print(max_date)\n",
    "    \n",
    "    snotel_depth = plot_data[site]['snotel']['Depth(m)']\n",
    "    a = snotel_depth[(snotel_depth == 0) & (snotel_depth.index > melt_start)].index[0]\n",
    "    print('Snotel:')\n",
    "    print(a)\n",
    "    print('Difference:')\n",
    "    print(f' Min: {min_date - a}')\n",
    "    print(f' Max: {max_date - a}')\n",
    "    print('----')"
   ]
  },
  {
   "cell_type": "markdown",
   "metadata": {},
   "source": [
    "## SWE "
   ]
  },
  {
   "cell_type": "code",
   "execution_count": null,
   "metadata": {},
   "outputs": [],
   "source": [
    "plot_variable('specific_mass', 'SWE(mm)', 'SWE', 'SWE (mm)')"
   ]
  },
  {
   "cell_type": "markdown",
   "metadata": {},
   "source": [
    "## Depth"
   ]
  },
  {
   "cell_type": "code",
   "execution_count": null,
   "metadata": {},
   "outputs": [],
   "source": [
    "plot_variable('thickness', 'Depth(m)', 'Snow Depth', 'Snow Depth (m)')"
   ]
  },
  {
   "cell_type": "markdown",
   "metadata": {},
   "source": [
    "## Snow Density"
   ]
  },
  {
   "cell_type": "code",
   "execution_count": null,
   "metadata": {},
   "outputs": [],
   "source": [
    "plot_variable('snow_density', 'Density(kg/m3)', 'Snow Density', r'Snow Density ($kg/m^3$)')"
   ]
  },
  {
   "cell_type": "markdown",
   "metadata": {},
   "source": [
    "## Temperature "
   ]
  },
  {
   "cell_type": "code",
   "execution_count": null,
   "metadata": {},
   "outputs": [],
   "source": [
    "plot_variable('temp_surf', 'Air-T(C)', 'Temperature', 'Temperatreu (C)')"
   ]
  }
 ],
 "metadata": {
  "kernelspec": {
   "display_name": "Python [conda env:snow_viz]",
   "language": "python",
   "name": "conda-env-snow_viz-py"
  },
  "language_info": {
   "codemirror_mode": {
    "name": "ipython",
    "version": 3
   },
   "file_extension": ".py",
   "mimetype": "text/x-python",
   "name": "python",
   "nbconvert_exporter": "python",
   "pygments_lexer": "ipython3",
   "version": "3.8.6"
  }
 },
 "nbformat": 4,
 "nbformat_minor": 4
}
