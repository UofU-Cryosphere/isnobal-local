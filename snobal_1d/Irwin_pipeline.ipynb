{
 "cells": [
  {
   "cell_type": "code",
   "execution_count": null,
   "metadata": {},
   "outputs": [],
   "source": [
    "import MesoPy\n",
    "import json\n",
    "import pandas as pd\n",
    "import numpy as np\n",
    "import missingno as msno\n",
    "import os\n",
    "import matplotlib.pyplot as plt\n",
    "from dateutil import parser"
   ]
  },
  {
   "cell_type": "code",
   "execution_count": null,
   "metadata": {},
   "outputs": [],
   "source": [
    "%load_ext autoreload\n",
    "%autoreload 1"
   ]
  },
  {
   "cell_type": "code",
   "execution_count": null,
   "metadata": {},
   "outputs": [],
   "source": [
    "%aimport station_pipeline"
   ]
  },
  {
   "cell_type": "code",
   "execution_count": null,
   "metadata": {},
   "outputs": [],
   "source": [
    "df = pd.read_csv('raw_data/Irwin_WY20.csv',\n",
    "                 skiprows=[0,1,2,3,4,5,7],\n",
    "                 na_values=['NAN','NA','N/A','NaN'])\n",
    "\n",
    "df.info()"
   ]
  },
  {
   "cell_type": "code",
   "execution_count": null,
   "metadata": {},
   "outputs": [],
   "source": [
    "# change tz abbreviation to utc offset.\n",
    "# abbreviations are NOT unique (across contries) and therfore unable to be inferred by Pandas.\n",
    "df['Date_Time'] = df['Date_Time'].str.replace('MDT', 'UTC-6')\n",
    "df['Date_Time'] = df['Date_Time'].str.replace('MST', 'UTC-7')"
   ]
  },
  {
   "cell_type": "code",
   "execution_count": null,
   "metadata": {},
   "outputs": [],
   "source": [
    "# This subset df has a timestamp that includes DST changes. All others are UTC-7\n",
    "# set utc=True which incorporates dst changes, than set to utc-6, then revert to tz-unaware.\n",
    "# best practice is to use tz-aware dfs, but some functions may cause problems, so there is a trade-off\n",
    "dfir = df.iloc[:,0:10]\n",
    "dfir.index = pd.to_datetime(dfir['Date_Time'], utc=True)\n",
    "dfir.index = dfir.index.tz_convert('America/Denver')\n",
    "# removes the timezone information resulting in naive local time (now matching other dfs)\n",
    "dfir = dfir.tz_localize(None)\n",
    "# subset to start on WY\n",
    "dfir = dfir['2019-10-01':]\n",
    "dfir.info()"
   ]
  },
  {
   "cell_type": "code",
   "execution_count": null,
   "metadata": {},
   "outputs": [],
   "source": [
    "dfp = df.iloc[:,11:14]\n",
    "dfp.index = pd.to_datetime(dfp['Unnamed: 11'] + ' ' + dfp['Unnamed: 12']); dfp.info()"
   ]
  },
  {
   "cell_type": "code",
   "execution_count": null,
   "metadata": {},
   "outputs": [],
   "source": [
    "dfr = df.iloc[:,15:20]\n",
    "dfr.index = pd.to_datetime(dfr['Unnamed: 15']); dfr.info()"
   ]
  },
  {
   "cell_type": "markdown",
   "metadata": {},
   "source": [
    "## Take a look at the data in each df, see what is missing, where we need to interpolate values, etc. "
   ]
  },
  {
   "cell_type": "code",
   "execution_count": null,
   "metadata": {},
   "outputs": [],
   "source": [
    "dfir = dfir.dropna(how='all')\n",
    "dfir = dfir[~dfir.index.duplicated()]\n",
    "# recast to monotonic time series\n",
    "# note that snobal (IPW) expects serially complete data\n",
    "dfir = dfir.asfreq('1H')\n",
    "msno.matrix(dfir, freq='M')"
   ]
  },
  {
   "cell_type": "code",
   "execution_count": null,
   "metadata": {},
   "outputs": [],
   "source": [
    "dfp = dfp.dropna(how='all')\n",
    "dfp.drop_duplicates(inplace=True)\n",
    "dfp = dfp.asfreq('1H')\n",
    "msno.matrix(dfp, freq='M')"
   ]
  },
  {
   "cell_type": "code",
   "execution_count": null,
   "metadata": {},
   "outputs": [],
   "source": [
    "dfr = dfr.dropna(how='all').copy()\n",
    "dfr.drop_duplicates(inplace=True)\n",
    "dfr = dfr[['Incoming) Solar_Wm2_1_Avg','Outgoing_Solar_Wm2_3_Avg']]\n",
    "# coerce numeric, possibly strings from Excel file...\n",
    "dfr = dfr.apply(pd.to_numeric)\n",
    "dfr = dfr.asfreq('1H')\n",
    "msno.matrix(dfr, freq='M')"
   ]
  },
  {
   "cell_type": "markdown",
   "metadata": {},
   "source": [
    "# Processing"
   ]
  },
  {
   "cell_type": "code",
   "execution_count": null,
   "metadata": {},
   "outputs": [],
   "source": [
    "dfp.info()"
   ]
  },
  {
   "cell_type": "code",
   "execution_count": null,
   "metadata": {},
   "outputs": [],
   "source": [
    "dfir.info()"
   ]
  },
  {
   "cell_type": "code",
   "execution_count": null,
   "metadata": {},
   "outputs": [],
   "source": [
    "dfr.info()"
   ]
  },
  {
   "cell_type": "code",
   "execution_count": null,
   "metadata": {},
   "outputs": [],
   "source": [
    "# interpolate small gaps \n",
    "# note that none-floats are excluded\n",
    "dfir = dfir.interpolate(method='time', axis='index')"
   ]
  },
  {
   "cell_type": "code",
   "execution_count": null,
   "metadata": {},
   "outputs": [],
   "source": [
    "msno.matrix(dfir, freq='M')"
   ]
  },
  {
   "cell_type": "code",
   "execution_count": null,
   "metadata": {},
   "outputs": [],
   "source": [
    "dfir['net_solar'] = dfr['Incoming) Solar_Wm2_1_Avg'].subtract(dfr['Outgoing_Solar_Wm2_3_Avg'])"
   ]
  },
  {
   "cell_type": "code",
   "execution_count": null,
   "metadata": {},
   "outputs": [],
   "source": [
    "dfr[['Incoming) Solar_Wm2_1_Avg','Outgoing_Solar_Wm2_3_Avg']].plot(figsize=(20,15))"
   ]
  },
  {
   "cell_type": "code",
   "execution_count": null,
   "metadata": {},
   "outputs": [],
   "source": [
    "dfir = station_pipeline.snow_density_fraction(df=dfir, \n",
    "                                              air_t_col='air_temp_set_1')"
   ]
  },
  {
   "cell_type": "code",
   "execution_count": null,
   "metadata": {},
   "outputs": [],
   "source": [
    "# subset to last radiation data\n",
    "dfir = dfir[:'20200630']\n",
    "dfp = dfp[:'20200630']"
   ]
  },
  {
   "cell_type": "code",
   "execution_count": null,
   "metadata": {},
   "outputs": [],
   "source": [
    "msno.matrix(dfir, freq='M')"
   ]
  },
  {
   "cell_type": "code",
   "execution_count": null,
   "metadata": {},
   "outputs": [],
   "source": [
    "dfir['air_t_K'] = np.nan\n",
    "dfir['air_t_K'] = dfir['air_temp_set_1'].apply(lambda x: x + 273.15)"
   ]
  },
  {
   "cell_type": "code",
   "execution_count": null,
   "metadata": {},
   "outputs": [],
   "source": [
    "lw_list = [station_pipeline.longwave_est_2(x, y, z) for x, y, z in zip(dfir['relative_humidity_set_1'],\n",
    "                                                                       dfir['net_solar'],\n",
    "                                                                       dfir['air_t_K'])]\n",
    "\n",
    "lwdf = pd.DataFrame(lw_list)\n",
    "lwdf = lwdf.set_index(dfir.index)\n",
    "dfir['lw_in_est'] = lwdf[0].copy()"
   ]
  },
  {
   "cell_type": "code",
   "execution_count": null,
   "metadata": {},
   "outputs": [],
   "source": [
    "msno.matrix(dfir, freq='M')"
   ]
  },
  {
   "cell_type": "code",
   "execution_count": null,
   "metadata": {},
   "outputs": [],
   "source": [
    "dfir.info()"
   ]
  },
  {
   "cell_type": "code",
   "execution_count": null,
   "metadata": {},
   "outputs": [],
   "source": [
    "dfir[['air_t_K','lw_in_est', 'relative_humidity_set_1']].plot(figsize=(20,10))"
   ]
  },
  {
   "cell_type": "code",
   "execution_count": null,
   "metadata": {},
   "outputs": [],
   "source": [
    "dfir = station_pipeline.vapor_pressure(df=dfir, dt='dew_point_temperature_set_1d')"
   ]
  },
  {
   "cell_type": "code",
   "execution_count": null,
   "metadata": {},
   "outputs": [],
   "source": [
    "dfir['soil_temp'] = 0"
   ]
  },
  {
   "cell_type": "markdown",
   "metadata": {},
   "source": [
    "## Precipitation"
   ]
  },
  {
   "cell_type": "code",
   "execution_count": null,
   "metadata": {},
   "outputs": [],
   "source": [
    "dfp['precip_accum_mm'] = dfp['Precpip_Accum'] * 25.4\n",
    "#dfp['precip_accum_mm'] = dfp['precip_accum_mm'].mask(dfp['precip_accum_mm'] < 0, 0)\n",
    "dfp['precip_hourly_mm'] = dfp['precip_accum_mm'].diff(1)"
   ]
  },
  {
   "cell_type": "code",
   "execution_count": null,
   "metadata": {},
   "outputs": [],
   "source": [
    "# diff func misses first ts, so need to set as 0\n",
    "dfp['precip_hourly_mm'].loc['2019-10-01 00:00:00'] = 0\n",
    "\n",
    "dfp['precip_hourly_mm']"
   ]
  },
  {
   "cell_type": "code",
   "execution_count": null,
   "metadata": {},
   "outputs": [],
   "source": [
    "#dfp['precip_accum_mm'].loc['2019-10'].plot(figsize=(20,10))\n",
    "dfp['precip_accum_mm'].plot(figsize=(20,10))"
   ]
  },
  {
   "cell_type": "code",
   "execution_count": null,
   "metadata": {},
   "outputs": [],
   "source": [
    "dfp['precip_hourly_mm'] = dfp['precip_hourly_mm'].mask(dfp['precip_hourly_mm'] < 0, 0)\n",
    "dfp['precip_hourly_mm'].plot(figsize=(20,10))"
   ]
  },
  {
   "cell_type": "code",
   "execution_count": null,
   "metadata": {},
   "outputs": [],
   "source": [
    "dfp['fraction'] = dfir['fraction']\n",
    "dfp['density'] = dfir['density']\n",
    "dfp['p_temp'] = dfir['air_temp_set_1']"
   ]
  },
  {
   "cell_type": "code",
   "execution_count": null,
   "metadata": {},
   "outputs": [],
   "source": [
    "dfp['iter'] = range(len(dfp))"
   ]
  },
  {
   "cell_type": "code",
   "execution_count": null,
   "metadata": {},
   "outputs": [],
   "source": [
    "# 800 w/m^2 is snobal upper bound (IPW)\n",
    "dfir['net_solar'] = dfir['net_solar'].mask(dfir['net_solar'] > 800, 800)\n",
    "dfir['net_solar'] = dfir['net_solar'].mask(dfir['net_solar'] < 0, 0)"
   ]
  },
  {
   "cell_type": "code",
   "execution_count": null,
   "metadata": {},
   "outputs": [],
   "source": [
    "# set ano lower bound to 0.15 to prevent possible snobal error\n",
    "dfir['wind_speed_set_1'] = dfir['wind_speed_set_1'].mask(dfir['wind_speed_set_1'] < 0.15, 0)"
   ]
  },
  {
   "cell_type": "code",
   "execution_count": null,
   "metadata": {},
   "outputs": [],
   "source": [
    "dfp_in = dfp[['iter','precip_hourly_mm','fraction','density','p_temp']].copy()"
   ]
  },
  {
   "cell_type": "code",
   "execution_count": null,
   "metadata": {},
   "outputs": [],
   "source": [
    "dfp_in.interpolate(method='time', inplace=True)\n",
    "#dfp_in = dfp_in.interpolate(method='time', axis='index')"
   ]
  },
  {
   "cell_type": "code",
   "execution_count": null,
   "metadata": {},
   "outputs": [],
   "source": [
    "dfdat = dfir[['net_solar','lw_in_est','air_temp_set_1','vp','wind_speed_set_1','soil_temp']].copy()"
   ]
  },
  {
   "cell_type": "code",
   "execution_count": null,
   "metadata": {},
   "outputs": [],
   "source": [
    "dfdat = dfdat.interpolate(method='time', axis='index')"
   ]
  },
  {
   "cell_type": "code",
   "execution_count": null,
   "metadata": {},
   "outputs": [],
   "source": [
    "dfdat.plot(subplots=True, figsize=(20,15))"
   ]
  },
  {
   "cell_type": "code",
   "execution_count": null,
   "metadata": {},
   "outputs": [],
   "source": [
    "msno.matrix(dfdat, freq='M')"
   ]
  },
  {
   "cell_type": "code",
   "execution_count": null,
   "metadata": {},
   "outputs": [],
   "source": [
    "dfdat = dfdat.round(3)\n",
    "\n",
    "dfdat.to_csv('ipw_inputs/snobal.data.input', \n",
    "              index=False,\n",
    "              header=False,\n",
    "              sep=' ',)"
   ]
  },
  {
   "cell_type": "code",
   "execution_count": null,
   "metadata": {},
   "outputs": [],
   "source": [
    "dfp_in.plot(subplots=True, figsize=(20,15))"
   ]
  },
  {
   "cell_type": "code",
   "execution_count": null,
   "metadata": {},
   "outputs": [],
   "source": [
    "msno.matrix(dfp_in, freq='M')"
   ]
  },
  {
   "cell_type": "code",
   "execution_count": null,
   "metadata": {},
   "outputs": [],
   "source": [
    "dfp_in.info()"
   ]
  },
  {
   "cell_type": "code",
   "execution_count": null,
   "metadata": {},
   "outputs": [],
   "source": [
    "dfdat.info()"
   ]
  },
  {
   "cell_type": "code",
   "execution_count": null,
   "metadata": {},
   "outputs": [],
   "source": [
    "#optional round floats\n",
    "#dfp_in = dfp_in.round(3)\n",
    "\n",
    "dfp_in.to_csv('ipw_inputs/snobal.ppt.input', \n",
    "              index=False,\n",
    "              header=False,\n",
    "              sep=' ',)"
   ]
  },
  {
   "cell_type": "markdown",
   "metadata": {},
   "source": [
    "## Write other input files"
   ]
  },
  {
   "cell_type": "code",
   "execution_count": null,
   "metadata": {},
   "outputs": [],
   "source": [
    "with open('ipw_inputs/snow.properties.input', 'w') as f:\n",
    "  f.write('0 0 0 0 0 0')"
   ]
  },
  {
   "cell_type": "code",
   "execution_count": null,
   "metadata": {},
   "outputs": [],
   "source": [
    "with open('ipw_inputs/inheight.input', 'w') as f:\n",
    "  f.write('0 3 3 0.001 0.15')"
   ]
  },
  {
   "cell_type": "markdown",
   "metadata": {},
   "source": [
    "## IPW CLI"
   ]
  },
  {
   "cell_type": "raw",
   "metadata": {},
   "source": [
    "snobal -z 3109 -t 60 -m 0.01 -s snow.properties.input -h inheight.input -p snobal.ppt.input -i snobal.data.input -O normal -o irwin_model.v1 -c"
   ]
  },
  {
   "cell_type": "code",
   "execution_count": null,
   "metadata": {},
   "outputs": [],
   "source": [
    "dfdat['iter'] = range(len(dfdat))"
   ]
  },
  {
   "cell_type": "code",
   "execution_count": null,
   "metadata": {},
   "outputs": [],
   "source": [
    "station_pipeline.html_chart(dfdat)"
   ]
  },
  {
   "cell_type": "code",
   "execution_count": null,
   "metadata": {},
   "outputs": [],
   "source": [
    "station_pipeline.html_chart(dfp_in)"
   ]
  }
 ],
 "metadata": {
  "kernelspec": {
   "display_name": "snoenv",
   "language": "python",
   "name": "snoenv"
  },
  "language_info": {
   "codemirror_mode": {
    "name": "ipython",
    "version": 3
   },
   "file_extension": ".py",
   "mimetype": "text/x-python",
   "name": "python",
   "nbconvert_exporter": "python",
   "pygments_lexer": "ipython3",
   "version": "3.8.3"
  }
 },
 "nbformat": 4,
 "nbformat_minor": 4
}
