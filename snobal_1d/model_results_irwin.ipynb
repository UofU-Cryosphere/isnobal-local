{
 "cells": [
  {
   "cell_type": "code",
   "execution_count": null,
   "metadata": {},
   "outputs": [],
   "source": [
    "import MesoPy\n",
    "import pandas as pd\n",
    "import numpy as np\n",
    "import missingno as msno\n",
    "import os\n",
    "import matplotlib.pyplot as plt\n",
    "import station_pipeline\n",
    "import chart_studio.plotly as py"
   ]
  },
  {
   "cell_type": "code",
   "execution_count": null,
   "metadata": {},
   "outputs": [],
   "source": [
    "df = pd.read_csv('ipw_inputs/irwin_model.v1',\n",
    "                delimiter=' ',\n",
    "                header=None)\n",
    "df.info()"
   ]
  },
  {
   "cell_type": "code",
   "execution_count": null,
   "metadata": {},
   "outputs": [],
   "source": [
    "df.head()"
   ]
  },
  {
   "cell_type": "code",
   "execution_count": null,
   "metadata": {},
   "outputs": [],
   "source": [
    "df.rename(columns={0: 'elapsed time since start of model run (hours)',\n",
    "                1: 'net allwave rad (W/m^2)',\n",
    "                2: 'sensible heat transfer (W/m^2)',\n",
    "                3: 'latent heat exchange (W/m^2)',\n",
    "                4: 'snow/soil heat exchange (W/m^2)',\n",
    "                5: 'advected heat from precip. (W/m^2)',\n",
    "                6: 'sum of e.b. terms for snowcover (W/m^2)',\n",
    "                7: 'heat exchange between snow layers (W/m^2)',\n",
    "                8: 'sum of e.b. terms for surface layer (W/m^2)',\n",
    "                9: 'surface layer cold content (J/m^2)',\n",
    "                10: 'lower layer cold content (J/m^2)',\n",
    "                11: 'snowcover cold content (J/m^2)',\n",
    "                12: 'evaporation (kg/m^2)',\n",
    "                13: 'melt (kg/m^2)',\n",
    "                14: 'predicted runoff (kg, or mm/m^2)',\n",
    "# check if \"runoff error\" is being output. \n",
    "                15: 'predicted depth of surface layer (m)',\n",
    "                16: 'predicted   \"   of lower layer (m)',\n",
    "                17: 'predicted   \"   of snowcover (m)',\n",
    "                18: 'predicted average snow density (kg/m^3)',\n",
    "                19: 'predicted specific mass of surface layer (kg/m^2)',\n",
    "                20: 'predicted    \"      \"   of lower layer (kg/m^2)',\n",
    "                21: 'predicted    \"      \"   of snowcover (kg/m^2)',\n",
    "                22: 'predicted liquid H2O in snowcover (kg/m^2)',\n",
    "                23: 'predicted temperature of surface layer (C)',\n",
    "                24: 'predicted      \"      of lower layer (C)',\n",
    "                25: 'predicted average temp of snowcover (C)'}, inplace=True)"
   ]
  },
  {
   "cell_type": "code",
   "execution_count": null,
   "metadata": {},
   "outputs": [],
   "source": [
    "df.columns()"
   ]
  },
  {
   "cell_type": "code",
   "execution_count": null,
   "metadata": {},
   "outputs": [],
   "source": [
    "df.plot(subplots=True, figsize=(30,40))"
   ]
  },
  {
   "cell_type": "code",
   "execution_count": null,
   "metadata": {},
   "outputs": [],
   "source": [
    "fig = station_pipeline.html_chart(df, height=4000)\n",
    "fig.show()\n",
    "fig.write_html('plots/irwin.html')"
   ]
  },
  {
   "cell_type": "markdown",
   "metadata": {},
   "source": [
    "## SNOTEL comparison"
   ]
  },
  {
   "cell_type": "code",
   "execution_count": null,
   "metadata": {},
   "outputs": [],
   "source": [
    "df2 = pd.read_csv('raw_data/Irwin_WY20.csv',\n",
    "                skiprows=[0,1,2,3,4,5,7],\n",
    "                 na_values=['NAN','NA','N/A','NaN']\n",
    "                 )"
   ]
  },
  {
   "cell_type": "code",
   "execution_count": null,
   "metadata": {},
   "outputs": [],
   "source": [
    "dfir = df2.iloc[:,0:10]\n",
    "dfir.index = pd.to_datetime(dfir['Date_Time']); dfir.info()"
   ]
  },
  {
   "cell_type": "code",
   "execution_count": null,
   "metadata": {},
   "outputs": [],
   "source": [
    "# all raw data in MST, so dropping tz for now\n",
    "dfir = dfir.tz_localize(None)\n",
    "dfir = dfir.dropna(how='all')\n",
    "\n",
    "#drop_duplicates is not used here. it can result in unexpected behavior in timeseries df.\n",
    "dfir = dfir[~dfir.index.duplicated()]\n",
    "# recast index\n",
    "dfir = dfir.asfreq('1H')\n",
    "dfir.info()"
   ]
  },
  {
   "cell_type": "code",
   "execution_count": null,
   "metadata": {},
   "outputs": [],
   "source": [
    "dfir = dfir[:'20200630 22:00'].copy()"
   ]
  },
  {
   "cell_type": "code",
   "execution_count": null,
   "metadata": {},
   "outputs": [],
   "source": [
    "df.info()"
   ]
  },
  {
   "cell_type": "code",
   "execution_count": null,
   "metadata": {},
   "outputs": [],
   "source": [
    "df['predicted   \"   of snowcover (m)'].plot()"
   ]
  },
  {
   "cell_type": "code",
   "execution_count": null,
   "metadata": {},
   "outputs": [],
   "source": [
    "df.info()"
   ]
  },
  {
   "cell_type": "code",
   "execution_count": null,
   "metadata": {},
   "outputs": [],
   "source": [
    "df.head()"
   ]
  },
  {
   "cell_type": "code",
   "execution_count": null,
   "metadata": {},
   "outputs": [],
   "source": [
    "df.index = pd.date_range(start='2019-10-01 01:00:00', end='2020-06-30 23:00:00', freq='1H')"
   ]
  },
  {
   "cell_type": "code",
   "execution_count": null,
   "metadata": {},
   "outputs": [],
   "source": [
    "dfir['modeled_snow_depth'] = df['predicted   \"   of snowcover (m)'].copy()"
   ]
  },
  {
   "cell_type": "code",
   "execution_count": null,
   "metadata": {},
   "outputs": [],
   "source": [
    "dfir['modeled_snow_depth']"
   ]
  },
  {
   "cell_type": "code",
   "execution_count": null,
   "metadata": {},
   "outputs": [],
   "source": [
    "dfir['snow_depth_m'] = dfir['snow_depth_set_1'] / 1000"
   ]
  },
  {
   "cell_type": "code",
   "execution_count": null,
   "metadata": {},
   "outputs": [],
   "source": [
    "ax = dfir[['snow_depth_m','modeled_snow_depth']].plot(figsize=(20,10))\n",
    "\n",
    "fig = ax.get_figure()\n",
    "\n",
    "plt.savefig('plots/irwin_depth_compare.png', dpi=150, edgecolor='white', facecolor='white')"
   ]
  },
  {
   "cell_type": "code",
   "execution_count": null,
   "metadata": {},
   "outputs": [],
   "source": [
    "df.info()"
   ]
  },
  {
   "cell_type": "code",
   "execution_count": null,
   "metadata": {},
   "outputs": [],
   "source": [
    "#df = df.round(3)\n",
    "#df.to_csv('output/Irwin_wy2020_snobal_out_20201118.csv')"
   ]
  },
  {
   "cell_type": "code",
   "execution_count": null,
   "metadata": {},
   "outputs": [],
   "source": []
  }
 ],
 "metadata": {
  "kernelspec": {
   "display_name": "snoenv",
   "language": "python",
   "name": "snoenv"
  },
  "language_info": {
   "codemirror_mode": {
    "name": "ipython",
    "version": 3
   },
   "file_extension": ".py",
   "mimetype": "text/x-python",
   "name": "python",
   "nbconvert_exporter": "python",
   "pygments_lexer": "ipython3",
   "version": "3.8.3"
  }
 },
 "nbformat": 4,
 "nbformat_minor": 4
}
